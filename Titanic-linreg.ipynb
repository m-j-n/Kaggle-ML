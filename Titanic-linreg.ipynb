{
 "cells": [
  {
   "cell_type": "code",
   "execution_count": 4,
   "metadata": {},
   "outputs": [],
   "source": [
    "import pandas as pd\n",
    "from sklearn.preprocessing import Imputer\n",
    "from sklearn.linear_model import LogisticRegression\n",
    "\n",
    "train_data = pd.read_csv('train.csv')\n",
    "test_data = pd.read_csv('test.csv')\n",
    "\n",
    "train_data = train_data.drop('PassengerId', axis=1)\n",
    "\n",
    "\n",
    "def clean_data(data):\n",
    "    dum1 = pd.get_dummies(data['Sex'])    #transform 'Sex' and 'Embarked' type from obj to int\n",
    "    data = data.join(dum1)\n",
    "    dum2 = pd.get_dummies(data['Embarked'])\n",
    "    data = data.join(dum2)\n",
    "    data = data.drop(['Name', 'Cabin', 'Ticket', 'Sex', 'Embarked'], axis=1)    #remove useless data\n",
    "    imputer = Imputer(strategy='median')     #fill in missing data points with median \n",
    "    imputer.fit(data)\n",
    "    x = imputer.transform(data)\n",
    "    data = pd.DataFrame(x, columns=data.columns)      #transform numpy array back to Pandas Dataframe\n",
    "    data = data.astype(int)\n",
    "    return data\n",
    "\n",
    "\n",
    "train_data_clean = clean_data(train_data)\n",
    "test_data_clean = clean_data(test_data)"
   ]
  },
  {
   "cell_type": "code",
   "execution_count": 5,
   "metadata": {},
   "outputs": [],
   "source": [
    "# define training and test sets\n",
    "\n",
    "X_train = train_data_clean.drop('Survived', axis=1)\n",
    "Y_train = train_data_clean['Survived']\n",
    "X_test = test_data_clean.drop('PassengerId', axis=1).copy()\n",
    "\n"
   ]
  },
  {
   "cell_type": "code",
   "execution_count": 6,
   "metadata": {},
   "outputs": [
    {
     "data": {
      "text/plain": [
       "0.80359147025813693"
      ]
     },
     "execution_count": 6,
     "metadata": {},
     "output_type": "execute_result"
    }
   ],
   "source": [
    "#  format adopted from kaggle user omarelgabry\n",
    "\n",
    "logreg = LogisticRegression()\n",
    "\n",
    "logreg.fit(X_train, Y_train)\n",
    "\n",
    "Y_pred = logreg.predict(X_test)\n",
    "\n",
    "logreg.score(X_train, Y_train)"
   ]
  },
  {
   "cell_type": "code",
   "execution_count": 8,
   "metadata": {},
   "outputs": [],
   "source": [
    "submission = pd.DataFrame({\n",
    "        \"PassengerId\": test_data_clean[\"PassengerId\"],\n",
    "        \"Survived\": Y_pred\n",
    "    })\n",
    "submission.to_csv('Submission_linreg.csv', index=False)"
   ]
  },
  {
   "cell_type": "code",
   "execution_count": null,
   "metadata": {},
   "outputs": [],
   "source": []
  }
 ],
 "metadata": {
  "kernelspec": {
   "display_name": "Python 3",
   "language": "python",
   "name": "python3"
  },
  "language_info": {
   "codemirror_mode": {
    "name": "ipython",
    "version": 3
   },
   "file_extension": ".py",
   "mimetype": "text/x-python",
   "name": "python",
   "nbconvert_exporter": "python",
   "pygments_lexer": "ipython3",
   "version": "3.6.4"
  }
 },
 "nbformat": 4,
 "nbformat_minor": 2
}
